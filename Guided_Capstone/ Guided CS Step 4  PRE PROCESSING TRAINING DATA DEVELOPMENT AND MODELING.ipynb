{
 "cells": [
  {
   "cell_type": "code",
   "execution_count": 25,
   "metadata": {},
   "outputs": [],
   "source": [
    "# To start pre-processing our and Training our data for the regression model; we will first identify our Dependent Variables \n",
    "# or the response variable\n",
    "# in this case AdultWeekday and AdultWeeked \n",
    "# The remaining columns as indepedependent variables or predictor variables\n"
   ]
  },
  {
   "cell_type": "code",
   "execution_count": 53,
   "metadata": {
    "scrolled": true
   },
   "outputs": [],
   "source": [
    "# PRE-PROCESSING\n",
    "# Loading the final output dataframe from Step3\n",
    "# reloading the CleanData\n",
    "import pandas as pd\n",
    "import numpy as np\n",
    "import seaborn as sns\n",
    "import sklearn\n",
    "import matplotlib.pyplot as plt\n",
    "file='Data4.csv'\n",
    "Data4 = pd.read_csv(file, index_col=0)\n"
   ]
  },
  {
   "cell_type": "code",
   "execution_count": 54,
   "metadata": {
    "scrolled": false
   },
   "outputs": [
    {
     "data": {
      "text/html": [
       "<div>\n",
       "<style scoped>\n",
       "    .dataframe tbody tr th:only-of-type {\n",
       "        vertical-align: middle;\n",
       "    }\n",
       "\n",
       "    .dataframe tbody tr th {\n",
       "        vertical-align: top;\n",
       "    }\n",
       "\n",
       "    .dataframe thead th {\n",
       "        text-align: right;\n",
       "    }\n",
       "</style>\n",
       "<table border=\"1\" class=\"dataframe\">\n",
       "  <thead>\n",
       "    <tr style=\"text-align: right;\">\n",
       "      <th></th>\n",
       "      <th>summit_elev</th>\n",
       "      <th>vertical_drop</th>\n",
       "      <th>trams</th>\n",
       "      <th>fastEight</th>\n",
       "      <th>fastSixes</th>\n",
       "      <th>fastQuads</th>\n",
       "      <th>quad</th>\n",
       "      <th>triple</th>\n",
       "      <th>double</th>\n",
       "      <th>surface</th>\n",
       "      <th>...</th>\n",
       "      <th>Rhode Island</th>\n",
       "      <th>South Dakota</th>\n",
       "      <th>Tennessee</th>\n",
       "      <th>Utah</th>\n",
       "      <th>Vermont</th>\n",
       "      <th>Virginia</th>\n",
       "      <th>Washington</th>\n",
       "      <th>West Virginia</th>\n",
       "      <th>Wisconsin</th>\n",
       "      <th>Wyoming</th>\n",
       "    </tr>\n",
       "  </thead>\n",
       "  <tbody>\n",
       "    <tr>\n",
       "      <th>2</th>\n",
       "      <td>2090</td>\n",
       "      <td>294</td>\n",
       "      <td>0</td>\n",
       "      <td>0.0</td>\n",
       "      <td>0</td>\n",
       "      <td>0</td>\n",
       "      <td>0</td>\n",
       "      <td>1</td>\n",
       "      <td>0</td>\n",
       "      <td>2</td>\n",
       "      <td>...</td>\n",
       "      <td>0</td>\n",
       "      <td>0</td>\n",
       "      <td>0</td>\n",
       "      <td>0</td>\n",
       "      <td>0</td>\n",
       "      <td>0</td>\n",
       "      <td>0</td>\n",
       "      <td>0</td>\n",
       "      <td>0</td>\n",
       "      <td>0</td>\n",
       "    </tr>\n",
       "    <tr>\n",
       "      <th>4</th>\n",
       "      <td>11100</td>\n",
       "      <td>1800</td>\n",
       "      <td>0</td>\n",
       "      <td>0.0</td>\n",
       "      <td>0</td>\n",
       "      <td>1</td>\n",
       "      <td>2</td>\n",
       "      <td>3</td>\n",
       "      <td>1</td>\n",
       "      <td>0</td>\n",
       "      <td>...</td>\n",
       "      <td>0</td>\n",
       "      <td>0</td>\n",
       "      <td>0</td>\n",
       "      <td>0</td>\n",
       "      <td>0</td>\n",
       "      <td>0</td>\n",
       "      <td>0</td>\n",
       "      <td>0</td>\n",
       "      <td>0</td>\n",
       "      <td>0</td>\n",
       "    </tr>\n",
       "    <tr>\n",
       "      <th>5</th>\n",
       "      <td>7800</td>\n",
       "      <td>600</td>\n",
       "      <td>0</td>\n",
       "      <td>0.0</td>\n",
       "      <td>0</td>\n",
       "      <td>0</td>\n",
       "      <td>0</td>\n",
       "      <td>1</td>\n",
       "      <td>3</td>\n",
       "      <td>1</td>\n",
       "      <td>...</td>\n",
       "      <td>0</td>\n",
       "      <td>0</td>\n",
       "      <td>0</td>\n",
       "      <td>0</td>\n",
       "      <td>0</td>\n",
       "      <td>0</td>\n",
       "      <td>0</td>\n",
       "      <td>0</td>\n",
       "      <td>0</td>\n",
       "      <td>0</td>\n",
       "    </tr>\n",
       "    <tr>\n",
       "      <th>10</th>\n",
       "      <td>8012</td>\n",
       "      <td>750</td>\n",
       "      <td>0</td>\n",
       "      <td>0.0</td>\n",
       "      <td>0</td>\n",
       "      <td>0</td>\n",
       "      <td>0</td>\n",
       "      <td>1</td>\n",
       "      <td>5</td>\n",
       "      <td>2</td>\n",
       "      <td>...</td>\n",
       "      <td>0</td>\n",
       "      <td>0</td>\n",
       "      <td>0</td>\n",
       "      <td>0</td>\n",
       "      <td>0</td>\n",
       "      <td>0</td>\n",
       "      <td>0</td>\n",
       "      <td>0</td>\n",
       "      <td>0</td>\n",
       "      <td>0</td>\n",
       "    </tr>\n",
       "    <tr>\n",
       "      <th>12</th>\n",
       "      <td>10090</td>\n",
       "      <td>2590</td>\n",
       "      <td>0</td>\n",
       "      <td>0.0</td>\n",
       "      <td>0</td>\n",
       "      <td>2</td>\n",
       "      <td>0</td>\n",
       "      <td>0</td>\n",
       "      <td>4</td>\n",
       "      <td>1</td>\n",
       "      <td>...</td>\n",
       "      <td>0</td>\n",
       "      <td>0</td>\n",
       "      <td>0</td>\n",
       "      <td>0</td>\n",
       "      <td>0</td>\n",
       "      <td>0</td>\n",
       "      <td>0</td>\n",
       "      <td>0</td>\n",
       "      <td>0</td>\n",
       "      <td>0</td>\n",
       "    </tr>\n",
       "  </tbody>\n",
       "</table>\n",
       "<p>5 rows × 57 columns</p>\n",
       "</div>"
      ],
      "text/plain": [
       "    summit_elev  vertical_drop  trams  fastEight  fastSixes  fastQuads  quad  \\\n",
       "2          2090            294      0        0.0          0          0     0   \n",
       "4         11100           1800      0        0.0          0          1     2   \n",
       "5          7800            600      0        0.0          0          0     0   \n",
       "10         8012            750      0        0.0          0          0     0   \n",
       "12        10090           2590      0        0.0          0          2     0   \n",
       "\n",
       "    triple  double  surface   ...     Rhode Island  South Dakota  Tennessee  \\\n",
       "2        1       0        2   ...                0             0          0   \n",
       "4        3       1        0   ...                0             0          0   \n",
       "5        1       3        1   ...                0             0          0   \n",
       "10       1       5        2   ...                0             0          0   \n",
       "12       0       4        1   ...                0             0          0   \n",
       "\n",
       "    Utah  Vermont  Virginia  Washington  West Virginia  Wisconsin  Wyoming  \n",
       "2      0        0         0           0              0          0        0  \n",
       "4      0        0         0           0              0          0        0  \n",
       "5      0        0         0           0              0          0        0  \n",
       "10     0        0         0           0              0          0        0  \n",
       "12     0        0         0           0              0          0        0  \n",
       "\n",
       "[5 rows x 57 columns]"
      ]
     },
     "execution_count": 54,
     "metadata": {},
     "output_type": "execute_result"
    }
   ],
   "source": [
    "Data4.head()"
   ]
  },
  {
   "cell_type": "code",
   "execution_count": 55,
   "metadata": {},
   "outputs": [
    {
     "data": {
      "text/plain": [
       "(143, 57)"
      ]
     },
     "execution_count": 55,
     "metadata": {},
     "output_type": "execute_result"
    }
   ],
   "source": [
    "Data4.shape"
   ]
  },
  {
   "cell_type": "code",
   "execution_count": 29,
   "metadata": {},
   "outputs": [],
   "source": [
    "# Checking for Linear relationships in our variables"
   ]
  },
  {
   "cell_type": "code",
   "execution_count": 56,
   "metadata": {
    "scrolled": true
   },
   "outputs": [
    {
     "data": {
      "text/plain": [
       "Text(0, 0.5, 'AdultWeekday')"
      ]
     },
     "execution_count": 56,
     "metadata": {},
     "output_type": "execute_result"
    },
    {
     "data": {
      "image/png": "[encoded data removed]",
      "text/plain": [
       "<Figure size 432x288 with 1 Axes>"
      ]
     },
     "metadata": {
      "needs_background": "light"
     },
     "output_type": "display_data"
    }
   ],
   "source": [
    "plt.scatter(Data4['Runs'], Data4['AdultWeekday'])\n",
    "plt.xlabel('Runs')\n",
    "plt.ylabel('AdultWeekday')"
   ]
  },
  {
   "cell_type": "code",
   "execution_count": 57,
   "metadata": {},
   "outputs": [
    {
     "data": {
      "text/plain": [
       "Text(0, 0.5, 'AdultWeekend')"
      ]
     },
     "execution_count": 57,
     "metadata": {},
     "output_type": "execute_result"
    },
    {
     "data": {
      "image/png": "[encoded data removed]",
      "text/plain": [
       "<Figure size 432x288 with 1 Axes>"
      ]
     },
     "metadata": {
      "needs_background": "light"
     },
     "output_type": "display_data"
    }
   ],
   "source": [
    "plt.scatter(Data4['Runs'], Data4['AdultWeekend'])\n",
    "plt.xlabel('Runs')\n",
    "plt.ylabel('AdultWeekend')"
   ]
  },
  {
   "cell_type": "code",
   "execution_count": 58,
   "metadata": {},
   "outputs": [
    {
     "data": {
      "text/plain": [
       "Text(0, 0.5, 'AdultWeekday')"
      ]
     },
     "execution_count": 58,
     "metadata": {},
     "output_type": "execute_result"
    },
    {
     "data": {
      "image/png": "[encoded data removed]",
      "text/plain": [
       "<Figure size 432x288 with 1 Axes>"
      ]
     },
     "metadata": {
      "needs_background": "light"
     },
     "output_type": "display_data"
    }
   ],
   "source": [
    "plt.scatter(Data4['total_chairs'], Data4['AdultWeekday'])\n",
    "plt.xlabel('total_chairs')\n",
    "plt.ylabel('AdultWeekday')"
   ]
  },
  {
   "cell_type": "code",
   "execution_count": 59,
   "metadata": {},
   "outputs": [
    {
     "data": {
      "text/plain": [
       "Text(0, 0.5, 'AdultWeekday')"
      ]
     },
     "execution_count": 59,
     "metadata": {},
     "output_type": "execute_result"
    },
    {
     "data": {
      "image/png": "[encoded data removed]",
      "text/plain": [
       "<Figure size 432x288 with 1 Axes>"
      ]
     },
     "metadata": {
      "needs_background": "light"
     },
     "output_type": "display_data"
    }
   ],
   "source": [
    "plt.scatter(Data4['projectedDaysOpen'], Data4['AdultWeekday'])\n",
    "plt.xlabel('total_chairs')\n",
    "plt.ylabel('AdultWeekday')"
   ]
  },
  {
   "cell_type": "code",
   "execution_count": 60,
   "metadata": {
    "scrolled": false
   },
   "outputs": [
    {
     "data": {
      "text/plain": [
       "Text(0, 0.5, 'AdultWeekday')"
      ]
     },
     "execution_count": 60,
     "metadata": {},
     "output_type": "execute_result"
    },
    {
     "data": {
      "image/png": "[encoded data removed]",
      "text/plain": [
       "<Figure size 432x288 with 1 Axes>"
      ]
     },
     "metadata": {
      "needs_background": "light"
     },
     "output_type": "display_data"
    }
   ],
   "source": [
    "plt.scatter(Data4['projectedDaysOpen'], Data4['AdultWeekend'])\n",
    "plt.xlabel('projectedDaysOpen')\n",
    "plt.ylabel('AdultWeekday')"
   ]
  },
  {
   "cell_type": "code",
   "execution_count": 61,
   "metadata": {},
   "outputs": [],
   "source": [
    "# Standardizing the magnitude of numeric features"
   ]
  },
  {
   "cell_type": "code",
   "execution_count": 62,
   "metadata": {},
   "outputs": [],
   "source": [
    "#importing packages\n",
    "from sklearn import preprocessing"
   ]
  },
  {
   "cell_type": "code",
   "execution_count": 63,
   "metadata": {},
   "outputs": [],
   "source": [
    "#To declare the explanatory variable (x) we will drop the 'Adultweekend' from the dataFrame\n",
    "x= Data4.drop('AdultWeekday', axis=1)"
   ]
  },
  {
   "cell_type": "code",
   "execution_count": 64,
   "metadata": {},
   "outputs": [],
   "source": [
    "# Now declaring the response variable\n",
    "y= Data4.AdultWeekday"
   ]
  },
  {
   "cell_type": "code",
   "execution_count": 65,
   "metadata": {},
   "outputs": [],
   "source": [
    "from sklearn.model_selection import train_test_split"
   ]
  },
  {
   "cell_type": "code",
   "execution_count": 66,
   "metadata": {},
   "outputs": [],
   "source": [
    "x_train,x_test, y_train, y_test=train_test_split(x, y, test_size = 0.2, random_state =0)"
   ]
  },
  {
   "cell_type": "code",
   "execution_count": 67,
   "metadata": {},
   "outputs": [
    {
     "data": {
      "text/plain": [
       "(114, 56)"
      ]
     },
     "execution_count": 67,
     "metadata": {},
     "output_type": "execute_result"
    }
   ],
   "source": [
    "x_train.shape"
   ]
  },
  {
   "cell_type": "code",
   "execution_count": 68,
   "metadata": {},
   "outputs": [
    {
     "data": {
      "text/plain": [
       "(114,)"
      ]
     },
     "execution_count": 68,
     "metadata": {},
     "output_type": "execute_result"
    }
   ],
   "source": [
    "y_train.shape"
   ]
  },
  {
   "cell_type": "code",
   "execution_count": 69,
   "metadata": {},
   "outputs": [],
   "source": [
    "from sklearn.linear_model import LinearRegression"
   ]
  },
  {
   "cell_type": "code",
   "execution_count": 70,
   "metadata": {},
   "outputs": [],
   "source": [
    "lin_reg=LinearRegression()"
   ]
  },
  {
   "cell_type": "code",
   "execution_count": 71,
   "metadata": {},
   "outputs": [
    {
     "data": {
      "text/plain": [
       "LinearRegression(copy_X=True, fit_intercept=True, n_jobs=None,\n",
       "         normalize=False)"
      ]
     },
     "execution_count": 71,
     "metadata": {},
     "output_type": "execute_result"
    }
   ],
   "source": [
    "lin_reg.fit(x, y)"
   ]
  },
  {
   "cell_type": "code",
   "execution_count": 93,
   "metadata": {},
   "outputs": [
    {
     "data": {
      "text/plain": [
       "15.33380988323595"
      ]
     },
     "execution_count": 93,
     "metadata": {},
     "output_type": "execute_result"
    }
   ],
   "source": [
    "# Getting the intercept\n",
    "lin_reg.intercept_"
   ]
  },
  {
   "cell_type": "code",
   "execution_count": 95,
   "metadata": {},
   "outputs": [
    {
     "data": {
      "text/plain": [
       "array([ 1.08229160e-03,  1.21837157e-03, -4.93895203e-12,  6.26805552e-12,\n",
       "        3.29625216e-13, -2.96775020e-01,  4.10699949e-01,  9.00122871e-01,\n",
       "        2.98095380e-01, -7.98952178e-01,  5.13191003e-01,  1.02054916e-01,\n",
       "        7.36343139e-01, -4.62761996e-01, -3.04749150e-03,  4.45996729e-03,\n",
       "        1.16397733e-02, -3.69169581e-02,  2.27618667e-03,  6.69014966e-01,\n",
       "       -5.50982096e-02,  4.30668363e-02, -1.14464172e+01, -4.54345524e+00,\n",
       "       -7.72386770e+00,  6.55896887e+00, -1.01349036e+01,  1.12834995e+00,\n",
       "       -4.84128130e+00,  2.57478023e-01,  7.57112561e+00,  9.75425469e+00,\n",
       "        1.30222247e+01, -1.24783265e-01,  7.84699685e-01,  3.24614585e+00,\n",
       "       -1.23194562e+01, -6.17863726e+00,  6.63434017e+00,  3.10862447e-15,\n",
       "       -1.38588306e+01,  1.74197629e+00,  1.68123905e+01, -4.21616965e+00,\n",
       "       -8.28864169e+00,  6.86104122e+00,  1.24683964e+01, -1.45259814e+01,\n",
       "        2.04321282e+01, -9.88953752e+00,  5.98890346e+00,  7.48538787e+00,\n",
       "       -4.33841138e+00,  1.09776197e+01,  1.67271337e+00, -1.24961567e+01])"
      ]
     },
     "execution_count": 95,
     "metadata": {},
     "output_type": "execute_result"
    }
   ],
   "source": [
    "# getting the coefficients\n",
    "lin_reg.coef_"
   ]
  },
  {
   "cell_type": "code",
   "execution_count": 73,
   "metadata": {},
   "outputs": [
    {
     "data": {
      "text/plain": [
       "array([30.        , 74.        , 42.47578115, 69.77531677, 57.85872832,\n",
       "       58.0720038 , 84.63065132, 79.09580001, 48.09642182, 66.9952968 ,\n",
       "       84.45903974, 57.69076973, 84.11705797, 67.73313255, 53.74273729,\n",
       "       49.81338346, 43.50237593, 50.62555066, 41.31595266, 42.68607174,\n",
       "       49.76930874, 30.83830642, 42.88572226, 56.19933986, 43.62125097,\n",
       "       25.        , 41.15375498, 48.84624502, 34.18597847, 33.27959135,\n",
       "       39.53443018, 26.05825085, 38.37221106, 36.08984103, 21.83590072,\n",
       "       55.64379635, 59.        , 48.73604626, 24.69699948, 22.86837709,\n",
       "       41.69857716, 39.05641458, 32.670717  , 56.81173004, 42.68690702,\n",
       "       51.79808293, 42.34536309, 28.36991503, 40.32165782, 42.38663014,\n",
       "       40.78614793, 32.17778952, 35.62223568, 41.65781978, 50.30858943,\n",
       "       38.39741647, 42.02623559, 33.2715207 , 29.21662673, 34.4108435 ,\n",
       "       40.01735701, 37.        , 39.93768847, 46.06231153, 70.        ,\n",
       "       79.40830937, 48.39642737, 51.74233327, 41.49917252, 78.67530656,\n",
       "       80.97152472, 57.70413321, 79.43483855, 37.40250265, 77.76545177,\n",
       "       76.46178586, 26.53144602, 47.18149708, 73.78454679, 48.51016441,\n",
       "       79.53055983, 32.70911018, 35.16242706, 64.94855487, 26.9668731 ,\n",
       "       47.26326638, 54.75432389, 36.39193151, 41.27265478, 51.64652882,\n",
       "       49.10370037, 39.33207581, 47.93749803, 51.5110552 , 39.95266883,\n",
       "       43.37915359, 41.66817758, 43.53321346, 41.66722983, 42.7995567 ,\n",
       "       37.76238792, 38.90033792, 47.33727416, 48.77641405, 55.62005179,\n",
       "       52.94898133, 51.32370593, 24.64492595, 48.15000731, 36.53591363,\n",
       "       50.        , 45.        , 36.        , 50.30204916, 79.69795084,\n",
       "       69.04267775, 85.85809961, 69.48356884, 50.71122619, 63.52008724,\n",
       "       76.30156574, 64.08277462, 50.        , 44.39192099, 66.60807901,\n",
       "       50.70503798, 74.1829164 , 55.11204562, 58.99131085, 33.35636484,\n",
       "       50.64377269, 42.41307885, 35.90566038, 47.96911213, 39.54529385,\n",
       "       37.62305669, 47.03145483, 57.52089489, 46.57572206, 44.12555456,\n",
       "       62.71965578, 46.27550463, 48.30356298])"
      ]
     },
     "execution_count": 73,
     "metadata": {},
     "output_type": "execute_result"
    }
   ],
   "source": [
    "lin_reg.predict(x)"
   ]
  },
  {
   "cell_type": "code",
   "execution_count": 92,
   "metadata": {},
   "outputs": [
    {
     "data": {
      "text/plain": [
       "array([62.15511035, 73.20299601, 62.4259457 , 49.01591185, 51.24331272,\n",
       "       80.75008258, 63.92730138, 52.21514428, 59.07266398, 37.99943001,\n",
       "       79.8915241 , 86.92072805, 52.00884112, 81.58129138, 57.09248287,\n",
       "       61.12649144, 39.73859283, 86.96694416, 79.95702143, 41.63663846,\n",
       "       46.78506862, 72.08378117, 50.68732814, 48.25985136, 39.21493138,\n",
       "       44.60198943, 54.55260901, 75.36517725, 57.03283282])"
      ]
     },
     "execution_count": 92,
     "metadata": {},
     "output_type": "execute_result"
    }
   ],
   "source": [
    "Pred_y= lin_reg.predict(x_test)\n",
    "Pred_y"
   ]
  },
  {
   "cell_type": "code",
   "execution_count": 75,
   "metadata": {},
   "outputs": [
    {
     "data": {
      "text/plain": [
       "0.8912900041799829"
      ]
     },
     "execution_count": 75,
     "metadata": {},
     "output_type": "execute_result"
    }
   ],
   "source": [
    "lin_reg.score(x_test, y_test)"
   ]
  },
  {
   "cell_type": "code",
   "execution_count": null,
   "metadata": {},
   "outputs": [],
   "source": []
  },
  {
   "cell_type": "code",
   "execution_count": null,
   "metadata": {},
   "outputs": [],
   "source": [
    "# Now predicting AdultWeekend"
   ]
  },
  {
   "cell_type": "code",
   "execution_count": 115,
   "metadata": {},
   "outputs": [],
   "source": [
    "#To declare the explanatory variable (x) we will drop the 'Adultweekend' from the dataFrame\n",
    "x_end= Data4.drop('AdultWeekend', axis=1)"
   ]
  },
  {
   "cell_type": "code",
   "execution_count": 116,
   "metadata": {},
   "outputs": [],
   "source": [
    "y_end= Data4.AdultWeekend"
   ]
  },
  {
   "cell_type": "code",
   "execution_count": 117,
   "metadata": {},
   "outputs": [],
   "source": [
    "x_train,x_test, y_train, y_test=train_test_split(x_end, y_end, test_size = 0.2, random_state =0)"
   ]
  },
  {
   "cell_type": "code",
   "execution_count": 118,
   "metadata": {},
   "outputs": [
    {
     "data": {
      "text/plain": [
       "LinearRegression(copy_X=True, fit_intercept=True, n_jobs=None,\n",
       "         normalize=False)"
      ]
     },
     "execution_count": 118,
     "metadata": {},
     "output_type": "execute_result"
    }
   ],
   "source": [
    "lin_reg.fit(x_end, y_end)"
   ]
  },
  {
   "cell_type": "code",
   "execution_count": 119,
   "metadata": {},
   "outputs": [
    {
     "data": {
      "text/plain": [
       "array([34.        , 78.        , 53.52182579, 73.77849696, 58.11843582,\n",
       "       57.66462753, 85.46942786, 80.75008258, 52.00884112, 65.68826234,\n",
       "       85.76577965, 59.84871773, 81.17789733, 67.20760529, 49.71974978,\n",
       "       65.39331416, 55.73579604, 68.54915059, 44.60198943, 49.19752732,\n",
       "       43.66143676, 34.40631812, 51.24331272, 50.85476662, 41.63663846,\n",
       "       35.        , 43.57674659, 53.42325341, 35.34945957, 44.61961347,\n",
       "       45.03092696, 48.793228  , 43.02127055, 47.74619212, 43.0532479 ,\n",
       "       71.38606143, 79.        , 68.79304606, 44.87923088, 39.84135522,\n",
       "       59.48636784, 49.99873607, 37.59093298, 52.47749302, 57.03283282,\n",
       "       55.46496069, 52.30939378, 30.24502081, 48.27593441, 50.48715452,\n",
       "       52.35992532, 33.72613406, 40.4081024 , 40.37616715, 55.24721198,\n",
       "       49.51731203, 40.31871729, 50.70143262, 34.09646   , 39.04692953,\n",
       "       42.65914854, 47.        , 39.21493138, 46.78506862, 70.        ,\n",
       "       89.86868955, 58.41805502, 66.40671689, 59.29353413, 86.6988191 ,\n",
       "       90.44625472, 70.93441169, 90.00542391, 43.83061214, 86.09748284,\n",
       "       74.06231465, 24.74239897, 51.19053503, 76.21401453, 48.78816253,\n",
       "       77.00257429, 47.61643648, 36.40798315, 71.21301435, 33.04844317,\n",
       "       41.84266374, 60.71052675, 50.70944107, 46.12208065, 60.22753937,\n",
       "       56.35393359, 57.23343008, 57.58433558, 55.93017203, 63.83516492,\n",
       "       68.97088792, 66.19394716, 43.96083048, 45.40913725, 49.63003227,\n",
       "       42.59932295, 37.99943001, 50.40124704, 58.8099243 , 58.14367902,\n",
       "       69.4397433 , 65.32995276, 43.64696989, 57.23715171, 49.39257902,\n",
       "       60.        , 45.        , 65.        , 54.55260901, 75.44739099,\n",
       "       80.78509563, 86.12178866, 78.65397056, 66.51284635, 79.95702143,\n",
       "       86.96694416, 54.0023332 , 60.        , 48.5637435 , 67.4362565 ,\n",
       "       73.15117364, 82.63233776, 76.2164886 , 69.09913351, 37.504407  ,\n",
       "       52.38251432, 37.82465824, 41.52583526, 58.66181026, 54.22218918,\n",
       "       39.69275377, 57.43557533, 64.65112313, 45.29761603, 43.87664239,\n",
       "       57.09248287, 51.6717557 , 49.06150301])"
      ]
     },
     "execution_count": 119,
     "metadata": {},
     "output_type": "execute_result"
    }
   ],
   "source": [
    "lin_reg.predict(x_end)"
   ]
  },
  {
   "cell_type": "code",
   "execution_count": 120,
   "metadata": {},
   "outputs": [
    {
     "data": {
      "text/plain": [
       "array([55.46496069, 66.51284635, 55.73579604, 40.31871729, 51.24331272,\n",
       "       80.75008258, 57.23715171, 54.22218918, 52.38251432, 37.99943001,\n",
       "       63.83516492, 76.2164886 , 52.00884112, 66.19394716, 57.09248287,\n",
       "       47.74619212, 33.04844317, 86.96694416, 79.95702143, 41.63663846,\n",
       "       46.78506862, 60.71052675, 42.65914854, 43.57674659, 39.21493138,\n",
       "       44.60198943, 54.55260901, 65.32995276, 57.03283282])"
      ]
     },
     "execution_count": 120,
     "metadata": {},
     "output_type": "execute_result"
    }
   ],
   "source": [
    "y_pred=lin_reg.predict(x_test)\n",
    "y_pred"
   ]
  },
  {
   "cell_type": "code",
   "execution_count": null,
   "metadata": {},
   "outputs": [],
   "source": [
    "# checking the accuracy of our model"
   ]
  },
  {
   "cell_type": "code",
   "execution_count": 121,
   "metadata": {},
   "outputs": [
    {
     "data": {
      "text/plain": [
       "0.8869661619254238"
      ]
     },
     "execution_count": 121,
     "metadata": {},
     "output_type": "execute_result"
    }
   ],
   "source": [
    "lin_reg.score(x_test, y_test)"
   ]
  },
  {
   "cell_type": "code",
   "execution_count": null,
   "metadata": {},
   "outputs": [],
   "source": [
    "# I will run several simulations in the next step to predict the most income from AdultWeekday and AdultWeekend"
   ]
  }
 ],
 "metadata": {
  "kernelspec": {
   "display_name": "Python 3",
   "language": "python",
   "name": "python3"
  },
  "language_info": {
   "codemirror_mode": {
    "name": "ipython",
    "version": 3
   },
   "file_extension": ".py",
   "mimetype": "text/x-python",
   "name": "python",
   "nbconvert_exporter": "python",
   "pygments_lexer": "ipython3",
   "version": "3.7.1"
  }
 },
 "nbformat": 4,
 "nbformat_minor": 2
}
